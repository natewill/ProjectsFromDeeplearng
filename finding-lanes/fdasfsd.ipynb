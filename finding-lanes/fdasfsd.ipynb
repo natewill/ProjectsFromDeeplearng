{
 "cells": [
  {
   "cell_type": "code",
   "execution_count": null,
   "metadata": {},
   "outputs": [],
   "source": [
    "import cv2\n",
    "import matplotlib.pyplot as plt\n",
    "import numpy as np\n",
    "from mpl_toolkits.mplot3d import Axes3D\n",
    "from matplotlib import cm\n",
    "from matplotlib import colors\n",
    "flags = [i for i in dir(cv2) if i.startswith('COLOR_')]"
   ]
  },
  {
   "cell_type": "code",
   "execution_count": null,
   "metadata": {},
   "outputs": [],
   "source": [
    "nemo = cv2.imread('nemo.jpg')\n",
    "nemo = cv2.cvtColor(nemo, cv2.COLOR_BGR2RGB)\n",
    "image = cv2.imread('test_img.jpg')\n",
    "image = cv2.cvtColor(image, cv2.COLOR_BGR2RGB)\n",
    "plt.imshow(image)\n",
    "nemo = image"
   ]
  },
  {
   "cell_type": "code",
   "execution_count": null,
   "metadata": {},
   "outputs": [],
   "source": [
    "\n",
    "IMAGE_H = nemo.shape[0]\n",
    "IMAGE_W = nemo.shape[1]\n",
    "\n",
    "src = np.float32([[0, IMAGE_H], [1207, IMAGE_H], [0, 0], [IMAGE_W, 0]])\n",
    "dst = np.float32([[569, IMAGE_H], [711, IMAGE_H], [0, 0], [IMAGE_W, 0]])\n",
    "M = cv2.getPerspectiveTransform(src, dst) # The transformation matrix\n",
    "Minv = cv2.getPerspectiveTransform(dst, src) # Inverse transformation\n",
    "\n",
    "img = cv2.imread('./test_img.jpg') # Read the test img\n",
    "img = img[450:(450+IMAGE_H), 0:IMAGE_W] # Apply np slicing for ROI crop\n",
    "warped_img = cv2.warpPerspective(img, M, (IMAGE_W, IMAGE_H)) # Image warping\n",
    "plt.imshow(cv2.cvtColor(warped_img, cv2.COLOR_BGR2RGB)) # Show results\n",
    "plt.show()"
   ]
  },
  {
   "cell_type": "code",
   "execution_count": null,
   "metadata": {},
   "outputs": [],
   "source": [
    "r, g, b = cv2.split(nemo)\n",
    "fig = plt.figure()\n",
    "axis = fig.add_subplot(1, 1, 1, projection=\"3d\")\n",
    "pixel_colors = nemo.reshape((np.shape(nemo)[0]*np.shape(nemo)[1], 3))\n",
    "norm = colors.Normalize(vmin=-1.,vmax=1.)\n",
    "norm.autoscale(pixel_colors)\n",
    "pixel_colors = norm(pixel_colors).tolist()\n",
    "axis.scatter(r.flatten(), g.flatten(), b.flatten(), facecolors=pixel_colors, marker=\".\")\n",
    "axis.set_xlabel(\"Red\")\n",
    "axis.set_ylabel(\"Green\")\n",
    "axis.set_zlabel(\"Blue\")\n",
    "plt.show()"
   ]
  },
  {
   "cell_type": "code",
   "execution_count": null,
   "metadata": {},
   "outputs": [],
   "source": [
    "hsv_nemo = cv2.cvtColor(nemo, cv2.COLOR_RGB2HSV)\n",
    "h, s, v = cv2.split(hsv_nemo)\n",
    "fig = plt.figure()\n",
    "axis = fig.add_subplot(1, 1, 1, projection=\"3d\")\n",
    "\n",
    "axis.scatter(h.flatten(), s.flatten(), v.flatten(), facecolors=pixel_colors, marker=\".\")\n",
    "axis.set_xlabel(\"Hue\")\n",
    "axis.set_ylabel(\"Saturation\")\n",
    "axis.set_zlabel(\"Value\")\n",
    "plt.show()"
   ]
  },
  {
   "cell_type": "code",
   "execution_count": null,
   "metadata": {},
   "outputs": [],
   "source": [
    "light_orange = (0, 150, 200)\n",
    "dark_orange = (0, 7, 255)\n",
    "mask = cv2.inRange(hsv_nemo, light_orange, dark_orange)\n",
    "result = cv2.bitwise_and(nemo, nemo, mask=mask)\n",
    "plt.subplot(1, 2, 1)\n",
    "plt.imshow(mask, cmap=\"gray\")\n",
    "plt.subplot(1, 2, 2)\n",
    "plt.imshow(result)\n",
    "plt.show()"
   ]
  },
  {
   "cell_type": "code",
   "execution_count": null,
   "metadata": {},
   "outputs": [],
   "source": []
  }
 ],
 "metadata": {
  "kernelspec": {
   "display_name": "Python 3",
   "language": "python",
   "name": "python3"
  },
  "language_info": {
   "name": ""
  }
 },
 "nbformat": 4,
 "nbformat_minor": 4
}
